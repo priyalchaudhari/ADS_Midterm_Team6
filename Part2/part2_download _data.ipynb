{
 "cells": [
  {
   "cell_type": "code",
   "execution_count": 1,
   "metadata": {
    "collapsed": true
   },
   "outputs": [],
   "source": [
    "import pandas as pd\n",
    "import numpy as np\n",
    "import requests\n",
    "import re\n",
    "import os\n",
    "import glob\n",
    "import csv\n",
    "import numpy as np\n",
    "import matplotlib.pyplot as plt\n",
    "import math\n",
    "%matplotlib inline\n",
    "import json\n",
    "from bs4 import BeautifulSoup\n",
    "import urllib.request as rq\n",
    "import urllib\n",
    "from zipfile import ZipFile\n",
    "from io import BytesIO\n",
    "import lxml"
   ]
  },
  {
   "cell_type": "code",
   "execution_count": 2,
   "metadata": {
    "collapsed": true
   },
   "outputs": [],
   "source": [
    "def find_files(response):\n",
    "    soup = BeautifulSoup(response.text, \"lxml\")\n",
    "\n",
    "    download_url = 'https://freddiemac.embs.com/FLoan/Data/'\n",
    "    hrefs = []\n",
    "    for a in soup.find_all('a'):\n",
    "        hrefs.append(download_url + a['href'])\n",
    "        \n",
    "    return hrefs"
   ]
  },
  {
   "cell_type": "code",
   "execution_count": 7,
   "metadata": {
    "collapsed": false
   },
   "outputs": [
    {
     "name": "stdout",
     "output_type": "stream",
     "text": [
      "Logged in to the website!! \n",
      "\n",
      "Collected the required file links!! \n",
      "\n",
      "Directories already exist. Continuing the process!! \n",
      "\n",
      "Historical Files already exist!!!\n"
     ]
    }
   ],
   "source": [
    "# Logging in to the website and downloading the sample files from 2005 onwards \n",
    "def downloadSampleFiles(username, password, trainQuarter, testQuarter):\n",
    "    LOGIN_URL = \"https://freddiemac.embs.com/FLoan/secure/auth.php\"\n",
    "    URL = \"https://freddiemac.embs.com/FLoan/Data/download.php\"\n",
    "    with requests.session() as c:\n",
    "    \n",
    "        payload = {'username': username, 'password': password,\\\n",
    "                  'action': 'acceptTandC', 'acceptSubmit': 'Continue', 'accept':'Yes'}\n",
    "    \n",
    "        try:\n",
    "            login_response = c.post(LOGIN_URL, data = payload)\n",
    "        except requests.exceptions.RequestException as e:\n",
    "            print(e)\n",
    "            sys.exit(1)\n",
    "    \n",
    "        print('Logged in to the website!!', '\\n')\n",
    "        download_response = c.post(URL, data=payload)\n",
    "\n",
    "        list_of_links = find_files(download_response)\n",
    "        print('Collected the required file links!!', '\\n')\n",
    "        \n",
    "        download_path = './Data/historical_data/'\n",
    "\n",
    "        temp_year_list = [trainQuarter, testQuarter]\n",
    "        \n",
    "        existing_year_list = []\n",
    "        year_list = []\n",
    "\n",
    "        for path, subdirs, files in os.walk(download_path):\n",
    "            for file in files:\n",
    "                existing_year_list.append(file[-10:-4])\n",
    "\n",
    "        for x in temp_year_list:\n",
    "            if x not in set(existing_year_list):\n",
    "                year_list.append(x)\n",
    "    \n",
    "        if not os.path.exists(download_path):            \n",
    "            print('Creating required directories!!', '\\n')\n",
    "            os.makedirs(download_path)\n",
    "        else:\n",
    "            print('Directories already exist. Continuing the process!!', '\\n')\n",
    "        \n",
    "        if not year_list:\n",
    "            print('Historical Files already exist!!!')\n",
    "            exit(0)\n",
    "        else:\n",
    "            print('Starting historical files download!!', '\\n')\n",
    "            files_required = []\n",
    "            count = 0\n",
    "            for link in list_of_links:\n",
    "                for year in year_list:\n",
    "                    if ('historical_data1_' + year) in link:\n",
    "                        count = count + 1\n",
    "                    if count > 0:        \n",
    "                        files_required.append([link, 'historical_data1_' + year])\n",
    "                    count = 0      \n",
    "        \n",
    "            for file, filename in files_required:\n",
    "                samplefile_response = c.get(file)\n",
    "                samplefile_content = ZipFile(BytesIO(samplefile_response.content)) \n",
    "                samplefile_content.extractall(download_path + filename)\n",
    "                \n",
    "            print('Sample files downloaded in the path: ' + download_path, '\\n')\n",
    "            \n",
    "downloadSampleFiles(\"prashantvksingh@gmail.com\", \"V4wlNZow\", 'Q12005', 'Q22005')"
   ]
  },
  {
   "cell_type": "code",
   "execution_count": null,
   "metadata": {
    "collapsed": true
   },
   "outputs": [],
   "source": [
    "def changedatatype(df):\n",
    "    #Change the data types for all column\n",
    "    df[['fico','cd_msa','mi_pct','cnt_borr','cnt_units','cltv','dti','orig_upb','ltv','zipcode','orig_loan_term']] = df[['fico','cd_msa','mi_pct','cnt_borr','cnt_units','cltv','dti','orig_upb','ltv','zipcode','orig_loan_term']].astype('int64')\n",
    "    df[['flag_sc','servicer_name']] = df[['flag_sc','servicer_name']].astype('str')\n",
    "    return df"
   ]
  },
  {
   "cell_type": "code",
   "execution_count": 3,
   "metadata": {
    "collapsed": true
   },
   "outputs": [],
   "source": [
    "def changeperformancedatatype(perf_df):\n",
    "        perf_df[['curr_ln_delin_status','loan_age','remng_mon_to_leg_matur','zero_bal_cd','current_dupb',\\\n",
    "                 'actual_loss_calc']] = perf_df[['curr_ln_delin_status','loan_age','remng_mon_to_leg_matur',\\\n",
    "                                                 'zero_bal_cd','current_dupb','actual_loss_calc']].astype('int64')\n",
    "\n",
    "        perf_df[['mon_rpt_prd','zero_bal_eff_dt','lst_pd_inst_duedt']] = perf_df[['mon_rpt_prd','zero_bal_eff_dt',\\\n",
    "                                                                                  'lst_pd_inst_duedt']].astype('str')\n",
    "        return perf_df"
   ]
  },
  {
   "cell_type": "code",
   "execution_count": null,
   "metadata": {
    "collapsed": true
   },
   "outputs": [],
   "source": [
    "def fillNAN(df):\n",
    "    df['fico'] = df['fico'].fillna(0)\n",
    "    df['flag_fthb']=df['flag_fthb'].fillna('X')\n",
    "    df['cd_msa']=df['cd_msa'].fillna(0)\n",
    "    df['mi_pct']=df['mi_pct'].fillna(0)\n",
    "    df['cnt_units']=df['cnt_units'].fillna(0)\n",
    "    df['occpy_sts']=df['occpy_sts'].fillna('X')\n",
    "    df['cltv']=df['cltv'].fillna(0)\n",
    "    df['dti']=df['dti'].fillna(0)\n",
    "    df['ltv']=df['ltv'].fillna(0)\n",
    "    df['channel']=df['channel'].fillna('X')\n",
    "    df['ppmt_pnlty']=df['ppmt_pnlty'].fillna('X')\n",
    "    df['prop_type']=df['prop_type'].fillna('XX')\n",
    "    df['zipcode']=df['zipcode'].fillna(0)\n",
    "    df['loan_purpose']=df['loan_purpose'].fillna('X')\n",
    "    df['cnt_borr']=df['cnt_borr'].fillna(0)\n",
    "    df['flag_sc']=df['flag_sc'].fillna('N')\n",
    "    return df"
   ]
  },
  {
   "cell_type": "code",
   "execution_count": 4,
   "metadata": {
    "collapsed": true
   },
   "outputs": [],
   "source": [
    "def performance_fillNA(perf_df):\n",
    "    perf_df['curr_ln_delin_status'] = perf_df['curr_ln_delin_status'].fillna(0)\n",
    "    perf_df['repurch_flag']=perf_df['repurch_flag'].fillna('Unknown')\n",
    "    perf_df['mod_flag']=perf_df['mod_flag'].fillna('N')\n",
    "    perf_df['zero_bal_cd']=perf_df['zero_bal_cd'].fillna(00)\n",
    "    perf_df['zero_bal_eff_dt']=perf_df['zero_bal_eff_dt'].fillna('199601')\n",
    "    perf_df['current_dupb']=perf_df['current_dupb'].fillna(0)\n",
    "    perf_df['lst_pd_inst_duedt']=perf_df['lst_pd_inst_duedt'].fillna('199601')\n",
    "    perf_df['mi_recoveries']=perf_df['mi_recoveries'].fillna(0)\n",
    "    perf_df['net_sale_proceeds']=perf_df['net_sale_proceeds'].fillna('U')\n",
    "    perf_df['non_mi_recoveries']=perf_df['non_mi_recoveries'].fillna(0)\n",
    "    perf_df['expenses']=perf_df['expenses'].fillna(0)\n",
    "    perf_df['legal_costs']=perf_df['legal_costs'].fillna(0)\n",
    "    perf_df['maint_pres_costs']=perf_df['maint_pres_costs'].fillna(0)\n",
    "    perf_df['taxes_and_insur']=perf_df['taxes_and_insur'].fillna(0)\n",
    "    perf_df['misc_expenses']=perf_df['misc_expenses'].fillna(0)\n",
    "    perf_df['actual_loss_calc']=perf_df['actual_loss_calc'].fillna(0)\n",
    "    perf_df['mod_cost']=perf_df['mod_cost'].fillna(0)\n",
    "    \n",
    "    return perf_df"
   ]
  },
  {
   "cell_type": "code",
   "execution_count": 5,
   "metadata": {
    "collapsed": true
   },
   "outputs": [],
   "source": [
    "def minmax(perf_df):\n",
    "    new1_df = perf_df.groupby(['id_loan'])['current_aupb'].min().to_frame(name = 'min_current_aupb').reset_index()\n",
    "    new2_df = perf_df.groupby(['id_loan'])['current_aupb'].max().to_frame(name = 'max_current_aupb').reset_index()\n",
    "    new3_df = perf_df.groupby(['id_loan'])['curr_ln_delin_status'].min().to_frame(name = 'min_curr_ln_delin_status').reset_index()\n",
    "    new4_df = perf_df.groupby(['id_loan'])['curr_ln_delin_status'].max().to_frame(name = 'max_curr_ln_delin_status').reset_index()\n",
    "    new5_df = perf_df.groupby(['id_loan'])['zero_bal_cd'].min().to_frame(name = 'min_zero_bal_cd').reset_index()\n",
    "    new6_df = perf_df.groupby(['id_loan'])['zero_bal_cd'].max().to_frame(name = 'max_zero_bal_cd').reset_index()\n",
    "    new7_df = perf_df.groupby(['id_loan'])['mi_recoveries'].min().to_frame(name = 'min_mi_recoveries').reset_index()\n",
    "    new8_df = perf_df.groupby(['id_loan'])['mi_recoveries'].max().to_frame(name = 'max_mi_recoveries').reset_index()\n",
    "    new11_df = perf_df.groupby(['id_loan'])['non_mi_recoveries'].min().to_frame(name = 'min_non_mi_recoveries').reset_index()\n",
    "    new12_df = perf_df.groupby(['id_loan'])['non_mi_recoveries'].max().to_frame(name = 'max_non_mi_recoveries').reset_index()\n",
    "    new13_df = perf_df.groupby(['id_loan'])['expenses'].min().to_frame(name = 'min_expenses').reset_index()\n",
    "    new14_df = perf_df.groupby(['id_loan'])['expenses'].max().to_frame(name = 'max_expenses').reset_index()\n",
    "    new15_df = perf_df.groupby(['id_loan'])['legal_costs'].min().to_frame(name = 'min_legal_costs').reset_index()\n",
    "    new16_df = perf_df.groupby(['id_loan'])['legal_costs'].max().to_frame(name = 'max_legal_costs').reset_index()\n",
    "    new17_df = perf_df.groupby(['id_loan'])['maint_pres_costs'].min().to_frame(name = 'min_maint_pres_costs').reset_index()\n",
    "    new18_df = perf_df.groupby(['id_loan'])['maint_pres_costs'].max().to_frame(name = 'max_maint_pres_costs').reset_index()\n",
    "    new19_df = perf_df.groupby(['id_loan'])['taxes_and_insur'].min().to_frame(name = 'min_taxes_and_insur').reset_index()\n",
    "    new20_df = perf_df.groupby(['id_loan'])['taxes_and_insur'].max().to_frame(name = 'max_taxes_and_insur').reset_index()\n",
    "    new21_df = perf_df.groupby(['id_loan'])['misc_expenses'].min().to_frame(name = 'min_misc_expenses').reset_index()\n",
    "    new22_df = perf_df.groupby(['id_loan'])['misc_expenses'].max().to_frame(name = 'max_misc_expenses').reset_index()\n",
    "    new23_df = perf_df.groupby(['id_loan'])['actual_loss_calc'].min().to_frame(name = 'min_actual_loss_calc').reset_index()\n",
    "    new24_df = perf_df.groupby(['id_loan'])['actual_loss_calc'].max().to_frame(name = 'max_actual_loss_calc').reset_index()\n",
    "    new25_df = perf_df.groupby(['id_loan'])['mod_cost'].min().to_frame(name = 'min_mod_cost').reset_index()\n",
    "    new26_df = perf_df.groupby(['id_loan'])['mod_cost'].max().to_frame(name = 'max_mod_cost').reset_index()\n",
    "    \n",
    "    final_df = new1_df.merge(new2_df,on='id_loan').merge(new3_df,on='id_loan').merge(new4_df,on='id_loan').\\\n",
    "    merge(new5_df,on='id_loan').merge(new6_df,on='id_loan').merge(new7_df,on='id_loan').merge(new8_df,on='id_loan').\\\n",
    "    merge(new11_df,on='id_loan').merge(new12_df,on='id_loan').merge(new13_df,on='id_loan').merge(new14_df,on='id_loan').\\\n",
    "    merge(new15_df,on='id_loan').merge(new16_df,on='id_loan').merge(new17_df,on='id_loan').merge(new18_df,on='id_loan').\\\n",
    "    merge(new19_df,on='id_loan').merge(new20_df,on='id_loan').merge(new21_df,on='id_loan').merge(new22_df,on='id_loan').\\\n",
    "    merge(new23_df,on='id_loan').merge(new24_df,on='id_loan').merge(new25_df,on='id_loan').merge(new26_df,on='id_loan')\n",
    "    \n",
    "    return final_df"
   ]
  },
  {
   "cell_type": "code",
   "execution_count": null,
   "metadata": {
    "collapsed": true
   },
   "outputs": [],
   "source": [
    "def constructcsv():\n",
    "    download_path = \"./Data/\"\n",
    "    writeHeader1 = True\n",
    "    filename = download_path + \"HistoricalOriginationCombined.csv\"\n",
    "    if os.path.exists(filename):\n",
    "        os.unlink(filename)\n",
    "    with open(filename, 'w',encoding='utf-8',newline=\"\") as f:\n",
    "        for subdir,dirs, files in os.walk(download_path):\n",
    "            for file in files:\n",
    "                if 'time' not in file:\n",
    "                    sample_df = pd.read_csv(os.path.join(subdir,file) ,sep=\"|\",names=['fico','dt_first_pi','flag_fthb','dt_matr','cd_msa',\"mi_pct\",'cnt_units','occpy_sts','cltv','dti','orig_upb','ltv','int_rt','channel','ppmt_pnlty','prod_type','st', 'prop_type','zipcode','id_loan','loan_purpose', 'orig_loan_term','cnt_borr','seller_name','servicer_name','flag_sc'],skipinitialspace=True)\n",
    "                    sample_df = fillNAN(sample_df)\n",
    "                    sample_df = changedatatype(sample_df)\n",
    "                    sample_df['Year'] = ['19'+x if x=='99' else '20'+x for x in (sample_df['id_loan'].apply(lambda x: x[2:4]))]\n",
    "                    sample_df['Quater'] =sample_df['id_loan'].apply(lambda x: x[4:6])\n",
    "                    if writeHeader1 is True:\n",
    "                        sample_df.to_csv(f, mode='a', header=True,index=False)\n",
    "                        writeHeader1 = False\n",
    "                    else:\n",
    "                        sample_df.to_csv(f, mode='a', header=False,index=False)"
   ]
  },
  {
   "cell_type": "code",
   "execution_count": 6,
   "metadata": {
    "collapsed": false
   },
   "outputs": [
    {
     "name": "stdout",
     "output_type": "stream",
     "text": [
      "Started\n",
      "DataFrame creation started!!\n",
      "DataFrame created!!\n",
      "DataFrame creation started!!\n",
      "DataFrame created!!\n"
     ]
    }
   ],
   "source": [
    "def constructperformancecsv():\n",
    "    download_path = \"./Data/\"\n",
    "    print(\"Started\")\n",
    "    writeHeader1 = True\n",
    "    filename = download_path + \"HistoricalperformanceCombined.csv\"\n",
    "    if os.path.exists(filename):\n",
    "        os.unlink(filename)\n",
    "    with open(filename, 'w',encoding='utf-8',newline=\"\") as f:\n",
    "        for subdir,dirs, files in os.walk(download_path):\n",
    "            for file in files:\n",
    "                if 'time_' in file:\n",
    "                    temp_list = []\n",
    "                    chunksize = 10 ** 6\n",
    "                    for chunk in pd.read_csv(os.path.join(subdir,file) ,sep=\"|\", \\\n",
    "                                             skipinitialspace=True, chunksize=chunksize, low_memory=False, header=None):\n",
    "                        temp_list.append(chunk)\n",
    "                    print('DataFrame creation started!!')\n",
    "                    frames = []\n",
    "                    for df in temp_list:\n",
    "                        frames.append(df)\n",
    "                    sample_df = pd.concat(frames)\n",
    "                    sample_df.columns = ['id_loan','mon_rpt_prd','current_aupb','curr_ln_delin_status',\\\n",
    "                                         'loan_age','remng_mon_to_leg_matur', 'repurch_flag','mod_flag', \\\n",
    "                                         'zero_bal_cd', 'zero_bal_eff_dt','current_int_rte','current_dupb',\\\n",
    "                                         'lst_pd_inst_duedt','mi_recoveries', 'net_sale_proceeds',\\\n",
    "                                         'non_mi_recoveries','expenses', 'legal_costs', 'maint_pres_costs',\\\n",
    "                                         'taxes_and_insur','misc_expenses','actual_loss_calc', 'mod_cost']\n",
    "                    print('DataFrame created!!')\n",
    "                    \n",
    "                    sample_df['curr_ln_delin_status'] = [999 if x=='R' else x for x in \\\n",
    "                                                       (sample_df['curr_ln_delin_status'].apply(lambda x: x))]\n",
    "                    sample_df['curr_ln_delin_status'] = [0 if x=='XX' else x for x in \\\n",
    "                                                       (sample_df['curr_ln_delin_status'].apply(lambda x: x))]\n",
    "                    sample_df = performance_fillNA(sample_df)\n",
    "                    sample_df = changeperformancedatatype(sample_df)\n",
    "                    filtered_df = minmax(sample_df)\n",
    "                    filtered_df['Year'] = ['19'+x if x=='99' else '20'+x for x in (filtered_df['id_loan'].apply(lambda x: x[2:4]))]\n",
    "                    filtered_df['Quarter'] =filtered_df['id_loan'].apply(lambda x: x[4:6])\n",
    "                    if writeHeader1 is True:\n",
    "                        filtered_df.to_csv(f, mode='a', header=True,index=False)\n",
    "                        writeHeader1 = False\n",
    "                    else:\n",
    "                        filtered_df.to_csv(f, mode='a', header=False,index=False)                  \n"
   ]
  },
  {
   "cell_type": "code",
   "execution_count": null,
   "metadata": {
    "collapsed": true
   },
   "outputs": [],
   "source": [
    "def main():\n",
    "    \n",
    "    user_input = sys.argv[1:]\n",
    "    print(\"----Process Started----\")\n",
    "    counter = 0\n",
    "    if len(user_input) == 0:\n",
    "        print('No Input provided. Process is exiting!!')\n",
    "        exit(0)\n",
    "    for ip in user_input:\n",
    "        if counter == 0:\n",
    "            username = str(ip)\n",
    "        elif counter == 1:\n",
    "            password = str(ip)\n",
    "        elif counter == 2:\n",
    "            trainQuarter = str(ip)\n",
    "        else:\n",
    "            testQuarter = str(ip)\n",
    "        counter += 1\n",
    "        \n",
    "    downloadSampleFiles(username, password, trainQuarter, testQuarter)\n",
    "    combineOrigFiles()\n",
    "    constructcsv()"
   ]
  },
  {
   "cell_type": "code",
   "execution_count": 9,
   "metadata": {
    "collapsed": true
   },
   "outputs": [],
   "source": [
    "if __name__ == '__main__':\n",
    "    main()"
   ]
  }
 ],
 "metadata": {
  "anaconda-cloud": {},
  "kernelspec": {
   "display_name": "Python 3",
   "language": "python",
   "name": "python3"
  },
  "language_info": {
   "codemirror_mode": {
    "name": "ipython",
    "version": 3
   },
   "file_extension": ".py",
   "mimetype": "text/x-python",
   "name": "python",
   "nbconvert_exporter": "python",
   "pygments_lexer": "ipython3",
   "version": "3.6.0"
  }
 },
 "nbformat": 4,
 "nbformat_minor": 2
}
